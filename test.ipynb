{
 "cells": [
  {
   "cell_type": "code",
   "execution_count": 1,
   "metadata": {},
   "outputs": [],
   "source": [
    "import polars as pl"
   ]
  },
  {
   "cell_type": "code",
   "execution_count": null,
   "metadata": {},
   "outputs": [],
   "source": [
    "df = pl.read_csv(\n",
    "            \"data/log_export.log\",\n",
    "            separator=\";\",\n",
    "            has_header=False,\n",
    "            new_columns=[\n",
    "                \"Date\",\n",
    "                \"IPsrc\",\n",
    "                \"IPdst\",\n",
    "                \"Protocole\",\n",
    "                \"Port_src\",\n",
    "                \"Port_dst\",\n",
    "                \"idRegle\",\n",
    "                \"action\",\n",
    "                \"interface_entrée\",\n",
    "                \"interface_sortie\",\n",
    "            ],\n",
    "        )\n",
    "\n"
   ]
  },
  {
   "cell_type": "code",
   "execution_count": null,
   "metadata": {},
   "outputs": [],
   "source": []
  }
 ],
 "metadata": {
  "kernelspec": {
   "display_name": "ProjetNLP",
   "language": "python",
   "name": "python3"
  },
  "language_info": {
   "codemirror_mode": {
    "name": "ipython",
    "version": 3
   },
   "file_extension": ".py",
   "mimetype": "text/x-python",
   "name": "python",
   "nbconvert_exporter": "python",
   "pygments_lexer": "ipython3",
   "version": "3.11.11"
  }
 },
 "nbformat": 4,
 "nbformat_minor": 2
}
